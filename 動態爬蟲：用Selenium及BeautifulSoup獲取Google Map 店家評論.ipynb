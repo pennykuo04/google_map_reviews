{
 "cells": [
  {
   "cell_type": "markdown",
   "id": "f318974d",
   "metadata": {},
   "source": [
    "# 動態爬蟲：用Selenium及BeautifulSoup獲取Google Map 店家評論"
   ]
  },
  {
   "cell_type": "markdown",
   "id": "f6d30a58",
   "metadata": {},
   "source": [
    "## 前言\n",
    "這篇文章將透過 Selenium & BeautifulSoup 自動抓取 Google Map 上 Costco 的客戶評分與留言等資料。"
   ]
  },
  {
   "cell_type": "markdown",
   "id": "1168c2d9",
   "metadata": {},
   "source": [
    "### 本文架構 \n",
    "1. 獲取評論網頁\n",
    "2. 選擇評論排序方法\n",
    "3. 取得評論內容(評論者名稱、評論時間、評論內容、評論星評、評論獲讚數)\n",
    "4. 載入及保存資料"
   ]
  },
  {
   "cell_type": "markdown",
   "id": "a52fe146",
   "metadata": {},
   "source": [
    "### 導入需要的工具"
   ]
  },
  {
   "cell_type": "code",
   "execution_count": 1,
   "id": "a6133e9b",
   "metadata": {},
   "outputs": [],
   "source": [
    "import os\n",
    "import time\n",
    "import pandas as pd\n",
    "from itertools import zip_longest\n",
    "from bs4 import BeautifulSoup as Soup\n",
    "from selenium.webdriver import Chrome\n",
    "from selenium.webdriver.common.by import By"
   ]
  },
  {
   "cell_type": "markdown",
   "id": "7872c5b0",
   "metadata": {},
   "source": [
    "### 搜尋Costco評論 & 排序"
   ]
  },
  {
   "cell_type": "code",
   "execution_count": 2,
   "id": "356e27b5",
   "metadata": {},
   "outputs": [
    {
     "name": "stderr",
     "output_type": "stream",
     "text": [
      "/var/folders/x5/801gyc55699fswfnrjch14vr0000gn/T/ipykernel_69943/3958791198.py:2: DeprecationWarning: executable_path has been deprecated, please pass in a Service object\n",
      "  driver = Chrome('./chromedriver')\n"
     ]
    }
   ],
   "source": [
    "# 搜尋評論\n",
    "driver = Chrome('./chromedriver')\n",
    "url = 'https://www.google.com/maps/place/%E5%A5%BD%E5%B8%82%E5%A4%9A+%E5%8F%B0%E4%B8%AD%E5%BA%97/@24.1327624,120.6468621,17z/data=!4m7!3m6!1s0x34693db15b74e261:0x400cf6c2b8dac047!8m2!3d24.1327624!4d120.6490508!9m1!1b1'\n",
    "\n",
    "driver.get(url)\n",
    "time.sleep(5)\n",
    "\n",
    "# 依評論時間排序\n",
    "\n",
    "## \"Sort\" button\n",
    "driver.find_element(by = By.XPATH, value = '//*[@id=\"QA0Szd\"]/div/div/div[1]/div[2]/div/div[1]/div/div/div[2]/div[7]/div[2]/button').click()\n",
    "time.sleep(5)\n",
    "\n",
    "## \"Newest\" section\n",
    "driver.find_element(by = By.XPATH, value = '//*[@id=\"action-menu\"]/div[2]').click()\n",
    "time.sleep(5)\n"
   ]
  },
  {
   "cell_type": "markdown",
   "id": "753d66e7",
   "metadata": {},
   "source": [
    "### 載入評論\n",
    "由新到舊排序後，會發現預設都只有前十條留言的資料，先設定載入前50筆留言"
   ]
  },
  {
   "cell_type": "code",
   "execution_count": 3,
   "id": "dbbd2a3e",
   "metadata": {},
   "outputs": [],
   "source": [
    "# 評論分頁下滑\n",
    "\n",
    "number = 0\n",
    "while True:\n",
    "    number = number + 1\n",
    "    \n",
    "    pane = driver.find_element(by = By.XPATH, value = '//*[@id=\"QA0Szd\"]/div/div/div[1]/div[2]/div/div[1]/div/div/div[2]')\n",
    "    driver.execute_script(\"arguments[0].scrollTop = arguments[0].scrollHeight\", pane)\n",
    "    \n",
    "    # Wait to load page\n",
    "    time.sleep(5)\n",
    "    \n",
    "    if number == 5:\n",
    "            break\n"
   ]
  },
  {
   "cell_type": "code",
   "execution_count": 4,
   "id": "80b6f828",
   "metadata": {},
   "outputs": [],
   "source": [
    "item = driver.find_elements(by = By.XPATH, value = '//*[@id=\"QA0Szd\"]/div/div/div[1]/div[2]/div/div[1]/div/div/div[2]/div[9]')\n",
    "time.sleep(3)\n",
    "\n",
    "username_list = []\n",
    "comment_time_list = []\n",
    "review_list = []\n",
    "rate_list = []\n",
    "likes_list = []\n",
    "\n",
    "# 展開'全文'\n",
    "for i in item:\n",
    "\n",
    "    button = i.find_elements(by = By.TAG_NAME, value = 'button')\n",
    "    for m in button:\n",
    "        if m.text == \"全文\":\n",
    "            m.click()\n",
    "    time.sleep(5)\n",
    "    \n",
    "    # 儲存評論\n",
    "    username = i.find_elements(by = By.CLASS_NAME, value = 'd4r55')\n",
    "    comment_time = i.find_elements(by = By.CLASS_NAME, value = 'rsqaWe')\n",
    "    review = i.find_elements(by = By.CLASS_NAME, value = 'wiI7pd')\n",
    "    rate = i.find_elements(by = By.CLASS_NAME, value = 'kvMYJc')\n",
    "    \n",
    "    for j,k,l,p in zip_longest(username,comment_time,review,rate):\n",
    "        username_list.append(j.text)\n",
    "        comment_time_list.append(k.text)\n",
    "        review_list.append(l.text)\n",
    "        rate_list.append(p.get_attribute(\"aria-label\").strip().strip(\"顆星\"))\n",
    "        \n",
    "\n",
    "soup = Soup(driver.page_source, 'html')\n",
    "likes = soup.find_all(class_ = 'jftiEf fontBodyMedium')\n",
    "for s in likes:\n",
    "    try:\n",
    "        likes = s.find(class_ = \"pkWtMe\").text\n",
    "        likes_list.append(likes)\n",
    "        \n",
    "    except AttributeError as e:\n",
    "        likes_list.append('0')\n",
    "        pass\n",
    "    \n",
    "time.sleep(5)\n",
    "driver.close()"
   ]
  },
  {
   "cell_type": "markdown",
   "id": "fce317ba",
   "metadata": {},
   "source": [
    "### 載入&儲存評論"
   ]
  },
  {
   "cell_type": "code",
   "execution_count": 6,
   "id": "45cd318b",
   "metadata": {},
   "outputs": [
    {
     "data": {
      "text/html": [
       "<div>\n",
       "<style scoped>\n",
       "    .dataframe tbody tr th:only-of-type {\n",
       "        vertical-align: middle;\n",
       "    }\n",
       "\n",
       "    .dataframe tbody tr th {\n",
       "        vertical-align: top;\n",
       "    }\n",
       "\n",
       "    .dataframe thead th {\n",
       "        text-align: right;\n",
       "    }\n",
       "</style>\n",
       "<table border=\"1\" class=\"dataframe\">\n",
       "  <thead>\n",
       "    <tr style=\"text-align: right;\">\n",
       "      <th></th>\n",
       "      <th>store_name</th>\n",
       "      <th>username</th>\n",
       "      <th>comment_time</th>\n",
       "      <th>review</th>\n",
       "      <th>rate</th>\n",
       "      <th>likes</th>\n",
       "    </tr>\n",
       "  </thead>\n",
       "  <tbody>\n",
       "    <tr>\n",
       "      <th>0</th>\n",
       "      <td>好市多 台中店</td>\n",
       "      <td>Felicia Peng</td>\n",
       "      <td>5 個月前</td>\n",
       "      <td>週五晚上人也好多\\n停車場停超滿滿滿～～\\n每一條走道都有很多人😅 …</td>\n",
       "      <td>4</td>\n",
       "      <td>0</td>\n",
       "    </tr>\n",
       "    <tr>\n",
       "      <th>1</th>\n",
       "      <td>好市多 台中店</td>\n",
       "      <td>May Zhou</td>\n",
       "      <td>11 個月前</td>\n",
       "      <td>很方便的美式賣場，自從北屯店開了之後，終於分散了一些人潮。 …</td>\n",
       "      <td>5</td>\n",
       "      <td>8</td>\n",
       "    </tr>\n",
       "    <tr>\n",
       "      <th>2</th>\n",
       "      <td>好市多 台中店</td>\n",
       "      <td>紅晨星</td>\n",
       "      <td>2 個月前</td>\n",
       "      <td>會員制，每年年費1350元，如果晉升黑卡每筆消費還優惠2%，以各式生鮮商品還有紅白酒最超值，...</td>\n",
       "      <td>5</td>\n",
       "      <td>0</td>\n",
       "    </tr>\n",
       "    <tr>\n",
       "      <th>3</th>\n",
       "      <td>好市多 台中店</td>\n",
       "      <td>Jimmy Chen</td>\n",
       "      <td>2 個月前</td>\n",
       "      <td>位於台中的好市多一店，吸引了許多彰化員林的人前往購買，消費力不容小覷。汽車時常需要繞好幾圈才...</td>\n",
       "      <td>4</td>\n",
       "      <td>2</td>\n",
       "    </tr>\n",
       "    <tr>\n",
       "      <th>4</th>\n",
       "      <td>好市多 台中店</td>\n",
       "      <td>坤澤 _Cliff</td>\n",
       "      <td>6 個月前</td>\n",
       "      <td>停車目前不用收費，賣場很大很好逛，東西都是家庭號的分量，除下來還是划算，目前商場裡面有試吃，...</td>\n",
       "      <td>5</td>\n",
       "      <td>0</td>\n",
       "    </tr>\n",
       "  </tbody>\n",
       "</table>\n",
       "</div>"
      ],
      "text/plain": [
       "  store_name      username comment_time  \\\n",
       "0    好市多 台中店  Felicia Peng        5 個月前   \n",
       "1    好市多 台中店      May Zhou       11 個月前   \n",
       "2    好市多 台中店           紅晨星        2 個月前   \n",
       "3    好市多 台中店    Jimmy Chen        2 個月前   \n",
       "4    好市多 台中店     坤澤 _Cliff        6 個月前   \n",
       "\n",
       "                                              review rate likes  \n",
       "0                週五晚上人也好多\\n停車場停超滿滿滿～～\\n每一條走道都有很多人😅 …   4      0  \n",
       "1                    很方便的美式賣場，自從北屯店開了之後，終於分散了一些人潮。 …   5      8  \n",
       "2  會員制，每年年費1350元，如果晉升黑卡每筆消費還優惠2%，以各式生鮮商品還有紅白酒最超值，...   5      0  \n",
       "3  位於台中的好市多一店，吸引了許多彰化員林的人前往購買，消費力不容小覷。汽車時常需要繞好幾圈才...   4      2  \n",
       "4  停車目前不用收費，賣場很大很好逛，東西都是家庭號的分量，除下來還是划算，目前商場裡面有試吃，...   5      0  "
      ]
     },
     "execution_count": 6,
     "metadata": {},
     "output_type": "execute_result"
    }
   ],
   "source": [
    "d1 = pd.DataFrame(\n",
    "    {'store_name': '好市多 台中店',\n",
    "     'username': username_list,\n",
    "     'comment_time': comment_time_list,\n",
    "     'review': review_list,\n",
    "     'rate': rate_list,\n",
    "     'likes': likes_list})  \n",
    "\n",
    "d1.to_csv('g_review.csv',index = False)\n",
    "d1.head()"
   ]
  },
  {
   "cell_type": "markdown",
   "id": "f906fdd5",
   "metadata": {},
   "source": [
    "\n"
   ]
  }
 ],
 "metadata": {
  "kernelspec": {
   "display_name": "Python 3 (ipykernel)",
   "language": "python",
   "name": "python3"
  },
  "language_info": {
   "codemirror_mode": {
    "name": "ipython",
    "version": 3
   },
   "file_extension": ".py",
   "mimetype": "text/x-python",
   "name": "python",
   "nbconvert_exporter": "python",
   "pygments_lexer": "ipython3",
   "version": "3.9.13"
  }
 },
 "nbformat": 4,
 "nbformat_minor": 5
}
